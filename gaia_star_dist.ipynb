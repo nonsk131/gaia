{
 "cells": [
  {
   "cell_type": "code",
   "execution_count": 4,
   "metadata": {},
   "outputs": [],
   "source": [
    "import numpy as np\n",
    "import matplotlib.pyplot as plt\n",
    "from astropy.coordinates import SkyCoord,Galactocentric,CartesianDifferential\n",
    "import astropy.units as u\n",
    "import astropy.coordinates as coord\n",
    "import h5py\n",
    "%matplotlib inline"
   ]
  },
  {
   "cell_type": "code",
   "execution_count": 328,
   "metadata": {},
   "outputs": [],
   "source": [
    "# mg,bp_rp,ra,dec,parallax,phot_g_mean_mag\n",
    "#data = np.genfromtxt('/Users/nondh/Downloads/full_4kpc-result.csv', skip_header=1,delimiter=',')\n",
    "#data = np.loadtxt('/Users/nondh/Downloads/full_4kpc-result.csv', skiprows=1,delimiter=',')\n",
    "#data = np.loadtxt('/Users/nondh/Downloads/sample_50000-result.csv', skiprows=1,delimiter=',')\n",
    "def read_real_data():\n",
    "    #data1 = np.loadtxt('/Users/nondh/Downloads/full_4kpc-result.csv', skiprows=1,delimiter=',')\n",
    "    #data2 = np.loadtxt('frontside_100pc-result.csv', skiprows=1,delimiter=',')\n",
    "    #data = np.vstack((data1, data2))\n",
    "    data = np.loadtxt('/Users/nondh/Downloads/backside_2kpc-result.csv', skiprows=1,delimiter=',')\n",
    "    c = coord.ICRS(ra=data[:,2] * u.degree,\n",
    "                dec=data[:,3] * u.degree,\n",
    "                distance=(1./data[:,4]) * u.kpc)\n",
    "\n",
    "    gcentric = c.transform_to(coord.Galactocentric(galcen_v_sun = coord.CartesianDifferential((11.1, -232.24, 7.25)*u.km/u.s)))\n",
    "    gcentric.representation = 'cylindrical'\n",
    "    \n",
    "    n = np.append(np.where((gcentric.phi > 175*u.deg))[0], np.where((gcentric.phi < -175*u.deg))[0])\n",
    "    gcentric = gcentric[n]\n",
    "    return gcentric, (data[:,:2])[n]"
   ]
  },
  {
   "cell_type": "code",
   "execution_count": 236,
   "metadata": {},
   "outputs": [],
   "source": [
    "def pick_subgroup(gcentric, dat, minmag=2.5, maxmag=3, gmin=5):\n",
    "    return gcentric[np.where((dat[:,0]>gmin) & (dat[:,1] > minmag) & (dat[:,1] < maxmag))]"
   ]
  },
  {
   "cell_type": "code",
   "execution_count": null,
   "metadata": {
    "scrolled": false
   },
   "outputs": [],
   "source": [
    "gcentric, dat = read_real_data()"
   ]
  },
  {
   "cell_type": "code",
   "execution_count": 225,
   "metadata": {},
   "outputs": [
    {
     "name": "stdout",
     "output_type": "stream",
     "text": [
      "16452345 16452345\n"
     ]
    }
   ],
   "source": [
    "print len(gcentric), len(dat)"
   ]
  },
  {
   "cell_type": "code",
   "execution_count": 237,
   "metadata": {},
   "outputs": [],
   "source": [
    "g_sub = pick_subgroup(gcentric, dat)"
   ]
  },
  {
   "cell_type": "code",
   "execution_count": 238,
   "metadata": {},
   "outputs": [
    {
     "data": {
      "text/plain": [
       "1241211"
      ]
     },
     "execution_count": 238,
     "metadata": {},
     "output_type": "execute_result"
    }
   ],
   "source": [
    "len(g_sub)"
   ]
  },
  {
   "cell_type": "code",
   "execution_count": 209,
   "metadata": {},
   "outputs": [
    {
     "data": {
      "text/plain": [
       "<Galactocentric Coordinate (galcen_coord=<ICRS Coordinate: (ra, dec) in deg\n",
       "    (266.4051, -28.936175)>, galcen_distance=8.3 kpc, galcen_v_sun=(11.1, -232.24, 7.25) km / s, z_sun=27.0 pc, roll=0.0 deg): (rho, phi, z) in (kpc, deg, kpc)\n",
       "    [(7.00110693, -179.41186782, -1.32439469),\n",
       "     (7.71913595, -179.8094146 , -0.581499  ),\n",
       "     (8.78466438, -177.56685867, -0.23079826), ...,\n",
       "     (7.53399351, -179.9957313 , -0.51258861),\n",
       "     (7.64089951, -179.99862079, -0.42453363),\n",
       "     (7.97327681, -179.99772466, -0.20310101)]>"
      ]
     },
     "execution_count": 209,
     "metadata": {},
     "output_type": "execute_result"
    }
   ],
   "source": []
  },
  {
   "cell_type": "code",
   "execution_count": 172,
   "metadata": {
    "scrolled": true
   },
   "outputs": [
    {
     "data": {
      "text/plain": [
       "8290458"
      ]
     },
     "execution_count": 172,
     "metadata": {},
     "output_type": "execute_result"
    }
   ],
   "source": []
  },
  {
   "cell_type": "markdown",
   "metadata": {},
   "source": [
    "# Read in the data from mock catalogue"
   ]
  },
  {
   "cell_type": "markdown",
   "metadata": {},
   "source": [
    "using m12f lsr0"
   ]
  },
  {
   "cell_type": "code",
   "execution_count": null,
   "metadata": {},
   "outputs": [],
   "source": [
    "for i in range(10):\n",
    "    loc = '/mnt/ceph/users/firesims/ananke/GaiaMocks/m12f/lsr_0/lsr-0-rslice-{}.m12f-res7100-md-sliced-gcat-dr2.hdf5'.format(i)\n",
    "    f = h5py.File(loc, 'r')\n",
    "    \n",
    "    # pick high latitude stars\n",
    "    i_high = np.where((f['parallax'][:]>0.25) & (f['parallax_over_error'][:] > 10) & ((f['b'][:] > 20) | (f['b'][:] < -20)) )[0]\n",
    "    \n",
    "    # pick backside\n",
    "    i_back = np.where((f['parallax'][:]>0.5) & (f['parallax_over_error'][:] > 10) & (f['b'][:] < 20) & (f['b'][:] > -20) & ((f['l'] >90) | (f['l'] < -90)))[0]\n",
    "    \n",
    "    # prick frontside\n",
    "    i_front = np.where((f['parallax'][:]>10) & (f['parallax_over_error'][:] > 10) & (f['b'][:] < 20) & (f['b'][:] > -20) & (f['l'] <90) & (f['l'] > -90))[0]\n",
    "    \n",
    "    i_all = np.append(i_high, i_back)\n",
    "    i_all = np.append(i_all, i_front)\n",
    "    \n",
    "    mock_ra = f['ra'][:][i_all]\n",
    "    mock_dec = f['dec'][:][i_all]\n",
    "    mock_parallax = f['parallax'][:][i_all]\n",
    "    mock_bprp = f['bp_rp'][:][i_all]\n",
    "    mock_bprp_int = f['bp_rp_int'][:][i_all]\n",
    "    mock_phot_g_mean_mag = f['phot_g_mean_mag'][:][i_all]\n",
    "    mock_phot_g_mean_mag_int = f['phot_g_mean_mag_int'][:][i_all]\n",
    "    \n",
    "    mock_dist = 1/mock_parallax # in kpc\n",
    "    mock_G = mock_phot_g_mean_mag - 10 + 5*np.log10(mock_parallax)\n",
    "    mock_G_int = mock_phot_g_mean_mag_int - 10 + 5*np.log10(mock_parallax)\n",
    "    \n",
    "    dat_i = np.column_stack((mock_ra, mock_dec, mock_dist, mock_G, mock_bprp, mock_G_int, mock_bprp_int))\n",
    "    "
   ]
  },
  {
   "cell_type": "code",
   "execution_count": 173,
   "metadata": {},
   "outputs": [],
   "source": [
    "f = h5py.File('lsr-2-rslice-0.m12i-res7100-md-sliced-gcat-dr2.hdf5', 'r')"
   ]
  },
  {
   "cell_type": "code",
   "execution_count": 174,
   "metadata": {},
   "outputs": [
    {
     "data": {
      "text/plain": [
       "[u'A0',\n",
       " u'a_g_bp_val',\n",
       " u'a_g_rp_val',\n",
       " u'a_g_val',\n",
       " u'age',\n",
       " u'alpha',\n",
       " u'b',\n",
       " u'b_true',\n",
       " u'bp_g',\n",
       " u'bp_g_int',\n",
       " u'bp_g_true',\n",
       " u'bp_rp',\n",
       " u'bp_rp_int',\n",
       " u'bp_rp_true',\n",
       " u'calcium',\n",
       " u'carbon',\n",
       " u'dec',\n",
       " u'dec_error',\n",
       " u'dec_true',\n",
       " u'dhel_true',\n",
       " u'dmod_true',\n",
       " u'e_bp_min_rp_val',\n",
       " u'ebv',\n",
       " u'feh',\n",
       " u'g_rp',\n",
       " u'g_rp_int',\n",
       " u'g_rp_true',\n",
       " u'helium',\n",
       " u'l',\n",
       " u'l_true',\n",
       " u'logg',\n",
       " u'lognh',\n",
       " u'lum_val',\n",
       " u'mact',\n",
       " u'magnesium',\n",
       " u'mini',\n",
       " u'mtip',\n",
       " u'neon',\n",
       " u'nitrogen',\n",
       " u'oxygen',\n",
       " u'parallax',\n",
       " u'parallax_error',\n",
       " u'parallax_over_error',\n",
       " u'parallax_true',\n",
       " u'parentid',\n",
       " u'partid',\n",
       " u'phot_bp_mean_mag',\n",
       " u'phot_bp_mean_mag_error',\n",
       " u'phot_bp_mean_mag_int',\n",
       " u'phot_bp_mean_mag_true',\n",
       " u'phot_g_mean_mag',\n",
       " u'phot_g_mean_mag_error',\n",
       " u'phot_g_mean_mag_int',\n",
       " u'phot_g_mean_mag_true',\n",
       " u'phot_rp_mean_mag',\n",
       " u'phot_rp_mean_mag_error',\n",
       " u'phot_rp_mean_mag_int',\n",
       " u'phot_rp_mean_mag_true',\n",
       " u'pmb_true',\n",
       " u'pmdec',\n",
       " u'pmdec_error',\n",
       " u'pmdec_true',\n",
       " u'pml_true',\n",
       " u'pmra',\n",
       " u'pmra_error',\n",
       " u'pmra_true',\n",
       " u'px_true',\n",
       " u'py_true',\n",
       " u'pz_true',\n",
       " u'ra',\n",
       " u'ra_error',\n",
       " u'ra_true',\n",
       " u'radial_velocity',\n",
       " u'radial_velocity_error',\n",
       " u'radial_velocity_true',\n",
       " u'random_index',\n",
       " u'silicon',\n",
       " u'source_id',\n",
       " u'sulphur',\n",
       " u'teff_val',\n",
       " u'vx_true',\n",
       " u'vy_true',\n",
       " u'vz_true']"
      ]
     },
     "execution_count": 174,
     "metadata": {},
     "output_type": "execute_result"
    }
   ],
   "source": [
    "# List all groups\n",
    "f.keys()"
   ]
  },
  {
   "cell_type": "code",
   "execution_count": 26,
   "metadata": {},
   "outputs": [],
   "source": [
    "ii = np.where((f['parallax'][:]>0.25) & (f['parallax_over_error'][:] > 10))[0]"
   ]
  },
  {
   "cell_type": "code",
   "execution_count": 38,
   "metadata": {},
   "outputs": [
    {
     "data": {
      "text/plain": [
       "array([0.42745022, 0.46285138, 0.46899979, ..., 0.6278187 , 0.49750184,\n",
       "       0.68114689])"
      ]
     },
     "execution_count": 38,
     "metadata": {},
     "output_type": "execute_result"
    }
   ],
   "source": [
    "f['parallax'][:][ii]"
   ]
  },
  {
   "cell_type": "code",
   "execution_count": 39,
   "metadata": {},
   "outputs": [],
   "source": [
    "mock_ra = f['ra'][:][ii]\n",
    "mock_dec = f['dec'][:][ii]\n",
    "mock_parallax = f['parallax'][:][ii]\n",
    "mock_bprp = f['bp_rp'][:][ii]\n",
    "mock_bprp_int = f['bp_rp_int'][:][ii]"
   ]
  },
  {
   "cell_type": "code",
   "execution_count": 31,
   "metadata": {},
   "outputs": [],
   "source": [
    "c_mock = coord.ICRS(ra=mock_ra * u.degree,\n",
    "                dec=mock_dec * u.degree,\n",
    "                distance=(1./mock_parallax) * u.kpc)\n",
    "\n",
    "gcentric_mock = c.transform_to(coord.Galactocentric(galcen_v_sun = coord.CartesianDifferential((11.1, -232.24, 7.25)*u.km/u.s))) "
   ]
  },
  {
   "cell_type": "code",
   "execution_count": 32,
   "metadata": {},
   "outputs": [
    {
     "data": {
      "text/plain": [
       "<Galactocentric Coordinate (galcen_coord=<ICRS Coordinate: (ra, dec) in deg\n",
       "    (266.4051, -28.936175)>, galcen_distance=8.3 kpc, galcen_v_sun=(11.1, -232.24, 7.25) km / s, z_sun=27.0 pc, roll=0.0 deg): (rho, phi, z) in (kpc, deg, kpc)\n",
       "    [(6.98671051, -148.47173225,  0.34411794),\n",
       "     (7.52053847, -171.8939422 , -0.33744767),\n",
       "     (8.83035248,  166.30244513, -0.04274612), ...,\n",
       "     (8.22858042, -172.33932109,  0.60478393),\n",
       "     (6.80723819, -174.78165177, -0.23304994),\n",
       "     (8.87193722,  179.41872878,  0.04906768)]>"
      ]
     },
     "execution_count": 32,
     "metadata": {},
     "output_type": "execute_result"
    }
   ],
   "source": [
    "gcentric_mock.representation = 'cylindrical'\n",
    "gcentric_mock"
   ]
  },
  {
   "cell_type": "markdown",
   "metadata": {},
   "source": [
    "# r-z space binning\n",
    "### 0.1x0.05 kpc"
   ]
  },
  {
   "cell_type": "markdown",
   "metadata": {},
   "source": [
    "## Real Gaia"
   ]
  },
  {
   "cell_type": "code",
   "execution_count": 262,
   "metadata": {},
   "outputs": [],
   "source": [
    "# assuming dat's columns are in #r, theta, z\n",
    "def get_bin_edges():\n",
    "    r_edges = np.array(range(70,101,1))/10.\n",
    "    r_edges = r_edges*u.kpc\n",
    "    z_edges = np.array(range(-100,105,5))/100.\n",
    "    z_edges = z_edges*u.kpc\n",
    "    return r_edges, z_edges\n",
    "    "
   ]
  },
  {
   "cell_type": "code",
   "execution_count": 263,
   "metadata": {},
   "outputs": [
    {
     "data": {
      "text/latex": [
       "$[7,~7.1,~7.2,~7.3,~7.4,~7.5,~7.6,~7.7,~7.8,~7.9,~8,~8.1,~8.2,~8.3,~8.4,~8.5,~8.6,~8.7,~8.8,~8.9,~9,~9.1,~9.2,~9.3,~9.4,~9.5,~9.6,~9.7,~9.8,~9.9,~10] \\; \\mathrm{kpc}$"
      ],
      "text/plain": [
       "<Quantity [ 7. ,  7.1,  7.2,  7.3,  7.4,  7.5,  7.6,  7.7,  7.8,  7.9,\n",
       "            8. ,  8.1,  8.2,  8.3,  8.4,  8.5,  8.6,  8.7,  8.8,  8.9,\n",
       "            9. ,  9.1,  9.2,  9.3,  9.4,  9.5,  9.6,  9.7,  9.8,  9.9,\n",
       "           10. ] kpc>"
      ]
     },
     "execution_count": 263,
     "metadata": {},
     "output_type": "execute_result"
    }
   ],
   "source": [
    "rr, zz = get_bin_edges()\n",
    "rr"
   ]
  },
  {
   "cell_type": "code",
   "execution_count": 325,
   "metadata": {},
   "outputs": [],
   "source": [
    "def pad_withNan(p):\n",
    "    ii,jj = np.where(p < 1)\n",
    "    for i, j in zip(ii, jj):\n",
    "        p[i,j] = np.nan\n",
    "    return p"
   ]
  },
  {
   "cell_type": "code",
   "execution_count": null,
   "metadata": {},
   "outputs": [],
   "source": [
    "def get_hist(gcentric, rr, zz):\n",
    "    H, e1, e2 = np.histogram2d(gcentric.rho, gcentric.z, bins=(rr, zz))\n",
    "    H = H.T\n",
    "    H_new = pad_withNan(H)\n",
    "    \n",
    "    fig = plt.figure(figsize=((12,8)))\n",
    "    ax = fig.add_subplot(1,1,1)\n",
    "    X, Y = np.meshgrid(e1, e2)\n",
    "    im = ax.pcolormesh(X, Y, H_new, cmap='jet')\n",
    "    fig.colorbar(im, ax =ax)\n",
    "    #return H, e1, e2"
   ]
  },
  {
   "cell_type": "code",
   "execution_count": null,
   "metadata": {},
   "outputs": [],
   "source": [
    "get_hist(gcentric, rr, zz)"
   ]
  },
  {
   "cell_type": "markdown",
   "metadata": {},
   "source": [
    "## Mock Gaia"
   ]
  },
  {
   "cell_type": "code",
   "execution_count": 185,
   "metadata": {},
   "outputs": [
    {
     "data": {
      "image/png": "[encoded data removed]",
      "text/plain": [
       "<Figure size 864x576 with 2 Axes>"
      ]
     },
     "metadata": {
      "needs_background": "light"
     },
     "output_type": "display_data"
    }
   ],
   "source": [
    "get_hist(gcentric_mock, rr, zz)"
   ]
  },
  {
   "cell_type": "code",
   "execution_count": 181,
   "metadata": {},
   "outputs": [
    {
     "data": {
      "text/plain": [
       "<Galactocentric Coordinate (galcen_coord=<ICRS Coordinate: (ra, dec) in deg\n",
       "    (266.4051, -28.936175)>, galcen_distance=8.3 kpc, galcen_v_sun=(11.1, -232.24, 7.25) km / s, z_sun=27.0 pc, roll=0.0 deg): (rho, phi, z) in (kpc, deg, kpc)\n",
       "    [(6.98671051, -148.47173225,  0.34411794),\n",
       "     (7.52053847, -171.8939422 , -0.33744767),\n",
       "     (8.83035248,  166.30244513, -0.04274612), ...,\n",
       "     (8.22858042, -172.33932109,  0.60478393),\n",
       "     (6.80723819, -174.78165177, -0.23304994),\n",
       "     (8.87193722,  179.41872878,  0.04906768)]>"
      ]
     },
     "execution_count": 181,
     "metadata": {},
     "output_type": "execute_result"
    }
   ],
   "source": [
    "gcentric_mock"
   ]
  },
  {
   "cell_type": "markdown",
   "metadata": {},
   "source": [
    "# MCMC Fit "
   ]
  },
  {
   "cell_type": "code",
   "execution_count": null,
   "metadata": {},
   "outputs": [],
   "source": [
    "import emcee"
   ]
  },
  {
   "cell_type": "code",
   "execution_count": null,
   "metadata": {},
   "outputs": [],
   "source": []
  },
  {
   "cell_type": "code",
   "execution_count": null,
   "metadata": {},
   "outputs": [],
   "source": []
  },
  {
   "cell_type": "code",
   "execution_count": null,
   "metadata": {},
   "outputs": [],
   "source": []
  },
  {
   "cell_type": "code",
   "execution_count": null,
   "metadata": {},
   "outputs": [],
   "source": []
  },
  {
   "cell_type": "code",
   "execution_count": null,
   "metadata": {},
   "outputs": [],
   "source": []
  },
  {
   "cell_type": "code",
   "execution_count": null,
   "metadata": {},
   "outputs": [],
   "source": []
  },
  {
   "cell_type": "code",
   "execution_count": null,
   "metadata": {},
   "outputs": [],
   "source": []
  },
  {
   "cell_type": "code",
   "execution_count": 326,
   "metadata": {},
   "outputs": [],
   "source": [
    "def get_bin_edges():\n",
    "    #r_edges = np.linspace(6.5,10.1,361)*u.kpc\n",
    "    #z_edges = np.linspace(-2.5,2.5,1001)*u.kpc\n",
    "    r_edges = np.linspace(6.5,10.1,37)*u.kpc\n",
    "    z_edges = np.linspace(-2.5,2.5,101)*u.kpc\n",
    "    return r_edges, z_edges\n",
    "\n",
    "def get_hist(gcentric):\n",
    "    rr, zz = get_bin_edges()\n",
    "    H, e1, e2 = np.histogram2d(gcentric.rho, gcentric.z, bins=(rr, zz))\n",
    "    H = pad_withNan(H)\n",
    "    \n",
    "    v = get_volume()\n",
    "    for i in range(len(zz)-1):\n",
    "        H[:,i] /= v\n",
    "        H[:,i] *= 10**(-9)\n",
    "    \n",
    "    l = (len(rr)-1) * (len(zz)-1)\n",
    "    r_array = np.zeros(l)*u.kpc\n",
    "    z_array = np.zeros(l)*u.kpc\n",
    "    val = np.zeros(l)\n",
    "    r_center = 0.5*(rr[1:] + rr[:-1])\n",
    "    z_center = 0.5*(zz[1:] + zz[:-1])\n",
    "    k = 0\n",
    "    for i, r in enumerate(r_center):\n",
    "        for j, z in enumerate(z_center):\n",
    "            r_array[k] = r\n",
    "            z_array[k] = z\n",
    "            val[k] = H[i,j]\n",
    "            k += 1\n",
    "    \n",
    "    H = H.T\n",
    "    H = np.log10(H)\n",
    "    #H_new = pad_withNan(H)\n",
    "    #print H_new\n",
    "    fig = plt.figure(figsize=((12,6)))\n",
    "    ax = fig.add_subplot(1,1,1)\n",
    "    X, Y = np.meshgrid(e1, e2)\n",
    "    im = ax.pcolormesh(X, Y, H, cmap='jet')\n",
    "    print rr[0], rr[-1]\n",
    "    ax.set_xlim(6.5, 10.1)\n",
    "    ax.set_ylim(-2.5,2.5)\n",
    "    ax.set_xlabel('R [kpc]', fontsize=18)\n",
    "    ax.set_ylabel('z [kpc]', fontsize=18)\n",
    "    ax.plot([6.5, 10.1], [0,0], linestyle = 'dashed', linewidth=3, c='black')\n",
    "    fig.colorbar(im, ax =ax, label='Log10 Number Density [1/pc^3]')\n",
    "    #fig.savefig('star_dist.png', dpi=300)\n",
    "    \n",
    "    return r_array, z_array, val\n",
    "\n",
    "\n",
    "def get_volume():\n",
    "    rr = np.linspace(6.5,10.1,37)\n",
    "    height = 0.05\n",
    "    v = np.zeros(len(rr)-1)\n",
    "    i = 0\n",
    "    for r1, r2 in zip(rr[:-1], rr[1:]):\n",
    "        v[i] = (1/36.) * np.pi * (r2**2 - r1**2) * height\n",
    "        i += 1\n",
    "    return v\n"
   ]
  },
  {
   "cell_type": "code",
   "execution_count": 41,
   "metadata": {},
   "outputs": [],
   "source": [
    "data_g = np.loadtxt('real_175cut_gstar.txt')"
   ]
  },
  {
   "cell_type": "code",
   "execution_count": 327,
   "metadata": {},
   "outputs": [
    {
     "name": "stdout",
     "output_type": "stream",
     "text": [
      "6.5 kpc 10.1 kpc\n"
     ]
    },
    {
     "data": {
      "image/png": "[encoded data removed]",
      "text/plain": [
       "<Figure size 864x432 with 2 Axes>"
      ]
     },
     "metadata": {
      "needs_background": "light"
     },
     "output_type": "display_data"
    }
   ],
   "source": [
    "c = coord.ICRS(ra=data_g[:,2] * u.degree,\n",
    "            dec=data_g[:,3] * u.degree,\n",
    "            distance=(1./data_g[:,4]) * u.kpc)\n",
    "\n",
    "gcentric = c.transform_to(coord.Galactocentric)\n",
    "gcentric.representation = 'cylindrical'\n",
    "r_array, z_array, val = get_hist(gcentric)"
   ]
  },
  {
   "cell_type": "code",
   "execution_count": 313,
   "metadata": {},
   "outputs": [
    {
     "name": "stdout",
     "output_type": "stream",
     "text": [
      "6.5 kpc 10.1 kpc\n"
     ]
    },
    {
     "data": {
      "text/plain": [
       "<matplotlib.colorbar.Colorbar at 0x118d21f10>"
      ]
     },
     "execution_count": 313,
     "metadata": {},
     "output_type": "execute_result"
    },
    {
     "data": {
      "image/png": "[encoded data removed]",
      "text/plain": [
       "<Figure size 864x432 with 2 Axes>"
      ]
     },
     "metadata": {
      "needs_background": "light"
     },
     "output_type": "display_data"
    }
   ],
   "source": [
    "    rr, zz = get_bin_edges()\n",
    "    H, e1, e2 = np.histogram2d(gcentric.rho, gcentric.z, bins=(rr, zz))\n",
    "    H = pad_withNan(H)\n",
    "    \n",
    "    H = H.T\n",
    "    H = np.log10(H)\n",
    "    #H_new = pad_withNan(H)\n",
    "    #print H_new\n",
    "    fig = plt.figure(figsize=((12,6)))\n",
    "    ax = fig.add_subplot(1,1,1)\n",
    "    X, Y = np.meshgrid(e1, e2)\n",
    "    im = ax.pcolormesh(X, Y, H, cmap='jet')\n",
    "    print rr[0], rr[-1]\n",
    "    ax.set_xlim(6.5, 10.1)\n",
    "    ax.set_ylim(-2.5,2.5)\n",
    "    ax.set_xlabel('R [kpc]', fontsize=18)\n",
    "    ax.set_ylabel('z [kpc]', fontsize=18)\n",
    "    ax.plot([6.5, 10.1], [0,0], linestyle = 'dashed', linewidth=3, c='black')\n",
    "    fig.colorbar(im, ax =ax, label='Log10 Number Density [1/pc^3]')"
   ]
  },
  {
   "cell_type": "code",
   "execution_count": null,
   "metadata": {},
   "outputs": [],
   "source": [
    "c = coord.ICRS(ra= * u.degree,\n",
    "            dec=data_g[:,3] * u.degree,\n",
    "            distance=(1) * u.kpc)\n",
    "\n",
    "gcentric = c.transform_to(coord.Galactocentric)\n",
    "gcentric.representation = 'cylindrical'"
   ]
  },
  {
   "cell_type": "code",
   "execution_count": 300,
   "metadata": {},
   "outputs": [],
   "source": [
    "new_val = val[np.isnan(val) == False]\n",
    "r_array = r_array[np.isnan(val) == False]\n",
    "z_array = z_array[np.isnan(val) == False]"
   ]
  },
  {
   "cell_type": "code",
   "execution_count": 281,
   "metadata": {},
   "outputs": [
    {
     "data": {
      "text/plain": [
       "2107"
      ]
     },
     "execution_count": 281,
     "metadata": {},
     "output_type": "execute_result"
    }
   ],
   "source": [
    "len(r_array)"
   ]
  },
  {
   "cell_type": "code",
   "execution_count": 186,
   "metadata": {},
   "outputs": [
    {
     "ename": "TypeError",
     "evalue": "ufunc 'bitwise_xor' not supported for the input types, and the inputs could not be safely coerced to any supported types according to the casting rule ''safe''",
     "output_type": "error",
     "traceback": [
      "\u001b[0;31m--------------------------------------------------------------\u001b[0m",
      "\u001b[0;31mTypeError\u001b[0m                    Traceback (most recent call last)",
      "\u001b[0;32m<ipython-input-186-1594bf5b8b55>\u001b[0m in \u001b[0;36m<module>\u001b[0;34m()\u001b[0m\n\u001b[0;32m----> 1\u001b[0;31m \u001b[0mnew_val_val\u001b[0m \u001b[0;34m=\u001b[0m \u001b[0mnew_val\u001b[0m \u001b[0;34m*\u001b[0m \u001b[0;36m10\u001b[0m\u001b[0;34m^\u001b[0m\u001b[0;36m9\u001b[0m\u001b[0;34m\u001b[0m\u001b[0m\n\u001b[0m",
      "\u001b[0;31mTypeError\u001b[0m: ufunc 'bitwise_xor' not supported for the input types, and the inputs could not be safely coerced to any supported types according to the casting rule ''safe''"
     ]
    }
   ],
   "source": [
    "new_val_val = new_val * 10*9"
   ]
  },
  {
   "cell_type": "code",
   "execution_count": 228,
   "metadata": {},
   "outputs": [],
   "source": [
    "def fit_func(X, rho, f, l1, h1, l2, h2):\n",
    "    R, z = X\n",
    "    return rho* ((np.exp((8.3-R)/l1)* np.exp(-np.absolute(z)/h1)) + f * (np.exp((8.3-R)/l2)* np.exp(-np.absolute(z)/h2)))\n",
    "\n",
    "def fit_func2(X, rho, l1, h1):\n",
    "    R, z = X\n",
    "    return rho* (np.exp((8.3-R)/l1)* np.exp(-np.absolute(z)/h1))\n",
    "\n",
    "def fit_func3(X, l1, h1):\n",
    "    R, z = X\n",
    "    return 10**(-2.8) * (np.exp((8.3-R)/l1)* np.exp(-np.absolute(z)/h1))"
   ]
  },
  {
   "cell_type": "code",
   "execution_count": 175,
   "metadata": {},
   "outputs": [],
   "source": [
    "from scipy.optimize import curve_fit"
   ]
  },
  {
   "cell_type": "code",
   "execution_count": 187,
   "metadata": {},
   "outputs": [],
   "source": [
    "p0=(100000, 0.05, 2,0.3,2,2)"
   ]
  },
  {
   "cell_type": "code",
   "execution_count": 221,
   "metadata": {},
   "outputs": [
    {
     "data": {
      "text/plain": [
       "(array([8.97066222e-04, 3.21334091e-03, 5.00000000e+00, 6.34665067e-01,\n",
       "        4.99990627e+00, 6.55162819e-01]),\n",
       " array([[ 2.35287531e+03, -2.63128515e+06,  6.80222400e+01,\n",
       "          2.63842895e+04, -9.63138585e+04,  8.52384822e+06],\n",
       "        [-2.63128515e+06,  2.94263852e+09, -7.60710175e+04,\n",
       "         -2.95062763e+07,  1.07710398e+08, -9.53245380e+09],\n",
       "        [ 6.80222400e+01, -7.60710175e+04,  2.02024467e+03,\n",
       "          7.66758918e+02, -6.21055063e+05,  2.45065870e+05],\n",
       "        [ 2.63842895e+04, -2.95062763e+07,  7.66758918e+02,\n",
       "          2.95866268e+05, -1.08122838e+06,  9.55825707e+07],\n",
       "        [-9.63138585e+04,  1.07710398e+08, -6.21055063e+05,\n",
       "         -1.08122838e+06,  1.93365636e+08, -3.48509202e+08],\n",
       "        [ 8.52384822e+06, -9.53245380e+09,  2.45065870e+05,\n",
       "          9.55825707e+07, -3.48509202e+08,  3.08799031e+10]]))"
      ]
     },
     "execution_count": 221,
     "metadata": {},
     "output_type": "execute_result"
    }
   ],
   "source": [
    "curve_fit(fit_func, (r_array,z_array), new_val, bounds=(0,[0.01, 1.0, 5,1,5,5]))"
   ]
  },
  {
   "cell_type": "code",
   "execution_count": 240,
   "metadata": {},
   "outputs": [
    {
     "data": {
      "text/plain": [
       "(array([1.05681508e-03, 1.95406792e+01, 6.63611586e-01]),\n",
       " array([[ 6.82071473e-10,  5.62188322e-06, -5.91519945e-07],\n",
       "        [ 5.62188322e-06,  1.12300704e+02,  3.93643461e-03],\n",
       "        [-5.91519945e-07,  3.93643461e-03,  8.70096028e-04]]))"
      ]
     },
     "execution_count": 240,
     "metadata": {},
     "output_type": "execute_result"
    }
   ],
   "source": [
    "curve_fit(fit_func2, (r_array_test,z_array_test), val_test, bounds=(0,[0.01, 20,5]))"
   ]
  },
  {
   "cell_type": "code",
   "execution_count": 312,
   "metadata": {},
   "outputs": [
    {
     "name": "stdout",
     "output_type": "stream",
     "text": [
      "0.5& 1.0& $0.0018 \\pm 0.00009$& $8.25 \\pm 2.13$& $0.41 \\pm 0.012$ \\\\\n",
      "0.5& 1.5& $0.0018 \\pm 0.00004$& $7.65 \\pm 1.31$& $0.42 \\pm 0.006$ \\\\\n",
      "0.5& 2.0& $0.0019 \\pm 0.00004$& $7.73 \\pm 1.26$& $0.40 \\pm 0.005$ \\\\\n",
      "0.5& 2.5& $0.0019 \\pm 0.00004$& $7.73 \\pm 1.26$& $0.40 \\pm 0.005$ \\\\\n",
      "1.0& 1.0& $0.0020 \\pm 0.00012$& $2.28 \\pm 0.11$& $0.37 \\pm 0.012$ \\\\\n",
      "1.0& 1.5& $0.0020 \\pm 0.00007$& $2.37 \\pm 0.09$& $0.37 \\pm 0.006$ \\\\\n",
      "1.0& 2.0& $0.0021 \\pm 0.00006$& $2.37 \\pm 0.08$& $0.36 \\pm 0.006$ \\\\\n",
      "1.0& 2.5& $0.0021 \\pm 0.00006$& $2.37 \\pm 0.08$& $0.36 \\pm 0.006$ \\\\\n",
      "1.5& 1.0& $0.0030 \\pm 0.00024$& $2.60 \\pm 0.16$& $0.30 \\pm 0.011$ \\\\\n",
      "1.5& 1.5& $0.0028 \\pm 0.00015$& $2.82 \\pm 0.15$& $0.30 \\pm 0.007$ \\\\\n",
      "1.5& 2.0& $0.0028 \\pm 0.00013$& $2.84 \\pm 0.14$& $0.30 \\pm 0.006$ \\\\\n",
      "1.5& 2.5& $0.0028 \\pm 0.00013$& $2.84 \\pm 0.14$& $0.30 \\pm 0.006$ \\\\\n",
      "2.0& 1.0& $0.0031 \\pm 0.00026$& $2.65 \\pm 0.17$& $0.29 \\pm 0.010$ \\\\\n",
      "2.0& 1.5& $0.0029 \\pm 0.00016$& $2.89 \\pm 0.16$& $0.30 \\pm 0.007$ \\\\\n",
      "2.0& 2.0& $0.0029 \\pm 0.00014$& $2.89 \\pm 0.15$& $0.30 \\pm 0.006$ \\\\\n",
      "2.0& 2.5& $0.0029 \\pm 0.00014$& $2.89 \\pm 0.15$& $0.30 \\pm 0.006$ \\\\\n"
     ]
    }
   ],
   "source": [
    "dz = np.linspace(1,2.5,4)\n",
    "dr = np.linspace(0.5,2,4)\n",
    "for delr in dr:\n",
    "    for delz in dz:\n",
    "        n = np.where(((z_array > 0.5*u.kpc)|(z_array < -0.5*u.kpc)) & ((z_array < delz*u.kpc) & (z_array > -delz*u.kpc)) & (r_array < (8.3+delr)*u.kpc) & (r_array > (8.3-delr)*u.kpc))[0]\n",
    "        n = np.where((z_array < -0.5*u.kpc) & ((z_array < delz*u.kpc) & (z_array > -delz*u.kpc)) & (r_array < (8.3+delr)*u.kpc) & (r_array > (8.3-delr)*u.kpc))[0]\n",
    "        val_test = new_val[n]\n",
    "        r_array_test = r_array[n]\n",
    "        z_array_test = z_array[n]\n",
    "        n2 = (np.arctan(np.absolute(z_array_test)/np.absolute(r_array_test - 8.3*u.kpc)).to(u.deg) > 30*u.deg)\n",
    "        val_test = val_test[n2]\n",
    "        r_array_test = r_array_test[n2]\n",
    "        z_array_test = z_array_test[n2]\n",
    "        \n",
    "        a, b = curve_fit(fit_func2, (r_array_test,z_array_test), val_test, bounds=(0,[0.1, 20,20]))\n",
    "        #a, b = curve_fit(fit_func, (r_array_test,z_array_test), val_test, bounds=(0,[0.1, 1, 20,20, 20, 20]))\n",
    "        s = '{}& {}& ${:5.4f} \\pm {:6.5f}$& ${:3.2f} \\pm {:3.2f}$& ${:3.2f} \\pm {:4.3f}$ \\\\\\\\'.format(delr, delz, a[0], np.sqrt(b[0,0]), a[1], np.sqrt(b[1,1]),a[2], np.sqrt(b[2,2]))\n",
    "        print s\n",
    "        #print \"                           {} {} {}\".format(np.sqrt(b[0,0]), np.sqrt(b[1,1]), np.sqrt(b[2,2]))\n",
    "        #print a"
   ]
  },
  {
   "cell_type": "code",
   "execution_count": 289,
   "metadata": {},
   "outputs": [],
   "source": [
    "n = np.where(((z_array > 0.5*u.kpc)|(z_array < -0.5*u.kpc)) & ((z_array < delz*u.kpc) & (z_array > -delz*u.kpc)) & (r_array < (8.3+delr)*u.kpc) & (r_array > (8.3-delr)*u.kpc))[0]\n",
    "val_test = new_val[n]\n",
    "r_array_test = r_array[n]\n",
    "z_array_test = z_array[n]"
   ]
  },
  {
   "cell_type": "code",
   "execution_count": 296,
   "metadata": {},
   "outputs": [],
   "source": [
    "n2 = (np.arctan(np.absolute(z_array_test)/np.absolute(r_array_test - 8.3*u.kpc)).to(u.deg) > 25*u.deg)"
   ]
  },
  {
   "cell_type": "code",
   "execution_count": 297,
   "metadata": {},
   "outputs": [],
   "source": [
    "val_test = val_test[n2]\n",
    "r_array_test = r_array_test[n2]\n",
    "z_array_test = z_array_test[n2]"
   ]
  },
  {
   "cell_type": "code",
   "execution_count": 298,
   "metadata": {},
   "outputs": [
    {
     "name": "stdout",
     "output_type": "stream",
     "text": [
      "0.5& 1.0& $0.0024 \\pm 0.00011$& $6.52 \\pm 0.57$& $0.32 \\pm 0.007$ \\\\\n",
      "0.5& 1.5& $0.0024 \\pm 0.00011$& $6.52 \\pm 0.57$& $0.32 \\pm 0.007$ \\\\\n",
      "0.5& 2.0& $0.0024 \\pm 0.00011$& $6.52 \\pm 0.57$& $0.32 \\pm 0.007$ \\\\\n",
      "0.5& 2.5& $0.0024 \\pm 0.00011$& $6.52 \\pm 0.57$& $0.32 \\pm 0.007$ \\\\\n",
      "1.0& 1.0& $0.0024 \\pm 0.00011$& $6.52 \\pm 0.57$& $0.32 \\pm 0.007$ \\\\\n",
      "1.0& 1.5& $0.0024 \\pm 0.00011$& $6.52 \\pm 0.57$& $0.32 \\pm 0.007$ \\\\\n",
      "1.0& 2.0& $0.0024 \\pm 0.00011$& $6.52 \\pm 0.57$& $0.32 \\pm 0.007$ \\\\\n",
      "1.0& 2.5& $0.0024 \\pm 0.00011$& $6.52 \\pm 0.57$& $0.32 \\pm 0.007$ \\\\\n",
      "1.5& 1.0& $0.0024 \\pm 0.00011$& $6.52 \\pm 0.57$& $0.32 \\pm 0.007$ \\\\\n",
      "1.5& 1.5& $0.0024 \\pm 0.00011$& $6.52 \\pm 0.57$& $0.32 \\pm 0.007$ \\\\\n",
      "1.5& 2.0& $0.0024 \\pm 0.00011$& $6.52 \\pm 0.57$& $0.32 \\pm 0.007$ \\\\\n",
      "1.5& 2.5& $0.0024 \\pm 0.00011$& $6.52 \\pm 0.57$& $0.32 \\pm 0.007$ \\\\\n",
      "2.0& 1.0& $0.0024 \\pm 0.00011$& $6.52 \\pm 0.57$& $0.32 \\pm 0.007$ \\\\\n",
      "2.0& 1.5& $0.0024 \\pm 0.00011$& $6.52 \\pm 0.57$& $0.32 \\pm 0.007$ \\\\\n",
      "2.0& 2.0& $0.0024 \\pm 0.00011$& $6.52 \\pm 0.57$& $0.32 \\pm 0.007$ \\\\\n",
      "2.0& 2.5& $0.0024 \\pm 0.00011$& $6.52 \\pm 0.57$& $0.32 \\pm 0.007$ \\\\\n"
     ]
    }
   ],
   "source": [
    "dz = np.linspace(1,2.5,4)\n",
    "dr = np.linspace(0.5,2,4)\n",
    "for delr in dr:\n",
    "    for delz in dz:\n",
    "        a, b = curve_fit(fit_func2, (r_array_test,z_array_test), val_test, bounds=(0,[0.1, 20,20]))\n",
    "        #a, b = curve_fit(fit_func, (r_array_test,z_array_test), val_test, bounds=(0,[0.1, 1, 20,20, 20, 20]))\n",
    "        s = '{}& {}& ${:5.4f} \\pm {:6.5f}$& ${:3.2f} \\pm {:3.2f}$& ${:3.2f} \\pm {:4.3f}$ \\\\\\\\'.format(delr, delz, a[0], np.sqrt(b[0,0]), a[1], np.sqrt(b[1,1]),a[2], np.sqrt(b[2,2]))\n",
    "        print s\n",
    "        #print \"                           {} {} {}\".format(np.sqrt(b[0,0]), np.sqrt(b[1,1]), np.sqrt(b[2,2]))\n",
    "        #print a"
   ]
  },
  {
   "cell_type": "code",
   "execution_count": null,
   "metadata": {},
   "outputs": [],
   "source": []
  },
  {
   "cell_type": "code",
   "execution_count": null,
   "metadata": {},
   "outputs": [],
   "source": []
  },
  {
   "cell_type": "code",
   "execution_count": null,
   "metadata": {},
   "outputs": [],
   "source": []
  },
  {
   "cell_type": "code",
   "execution_count": 215,
   "metadata": {},
   "outputs": [
    {
     "data": {
      "text/latex": [
       "$[8.85,~8.85,~8.85,~8.85,~8.85,~8.85,~8.85,~8.85,~8.85,~8.85,~8.85,~8.85,~8.85,~8.85,~8.85,~8.85,~8.85,~8.85,~8.85,~8.85,~8.85,~8.85,~8.85,~8.85,~8.85] \\; \\mathrm{kpc}$"
      ],
      "text/plain": [
       "<Quantity [8.85, 8.85, 8.85, 8.85, 8.85, 8.85, 8.85, 8.85, 8.85, 8.85,\n",
       "           8.85, 8.85, 8.85, 8.85, 8.85, 8.85, 8.85, 8.85, 8.85, 8.85,\n",
       "           8.85, 8.85, 8.85, 8.85, 8.85] kpc>"
      ]
     },
     "execution_count": 215,
     "metadata": {},
     "output_type": "execute_result"
    }
   ],
   "source": [
    "r_array_test[800:825]"
   ]
  },
  {
   "cell_type": "code",
   "execution_count": 216,
   "metadata": {},
   "outputs": [
    {
     "data": {
      "text/latex": [
       "$[-0.825,~-0.775,~-0.725,~-0.675,~-0.625,~-0.575,~-0.525,~-0.475,~-0.425,~-0.375,~-0.325,~-0.275,~-0.225,~0.225,~0.275,~0.325,~0.375,~0.425,~0.475,~0.525,~0.575,~0.625,~0.675,~0.725,~0.775] \\; \\mathrm{kpc}$"
      ],
      "text/plain": [
       "<Quantity [-0.825, -0.775, -0.725, -0.675, -0.625, -0.575, -0.525, -0.475,\n",
       "           -0.425, -0.375, -0.325, -0.275, -0.225,  0.225,  0.275,  0.325,\n",
       "            0.375,  0.425,  0.475,  0.525,  0.575,  0.625,  0.675,  0.725,\n",
       "            0.775] kpc>"
      ]
     },
     "execution_count": 216,
     "metadata": {},
     "output_type": "execute_result"
    }
   ],
   "source": [
    "z_array_test[800:825]"
   ]
  },
  {
   "cell_type": "code",
   "execution_count": 218,
   "metadata": {},
   "outputs": [
    {
     "data": {
      "text/plain": [
       "array([0.18231064, 0.20548791, 0.22115523, 0.24342614, 0.27786835,\n",
       "       0.31515916, 0.36060734, 0.41214117, 0.45979054, 0.52375464,\n",
       "       0.59963108, 0.68133422, 0.65375456, 0.96282806, 0.93265876,\n",
       "       0.80447159, 0.73001945, 0.61659322, 0.51119489, 0.43117502,\n",
       "       0.37057745, 0.33186233, 0.29146395, 0.24925283, 0.21092616])"
      ]
     },
     "execution_count": 218,
     "metadata": {},
     "output_type": "execute_result"
    }
   ],
   "source": [
    "val_test[800:825]*10**3"
   ]
  },
  {
   "cell_type": "code",
   "execution_count": 230,
   "metadata": {},
   "outputs": [
    {
     "data": {
      "text/plain": [
       "(array([10.59121218,  0.33816939]), array([[5.20393220e+00, 1.68969152e-03],\n",
       "        [1.68969152e-03, 5.22899543e-05]]))"
      ]
     },
     "execution_count": 230,
     "metadata": {},
     "output_type": "execute_result"
    }
   ],
   "source": [
    "curve_fit(fit_func3, (r_array,z_array), new_val, bounds=(0,[20,20]))"
   ]
  },
  {
   "cell_type": "code",
   "execution_count": 315,
   "metadata": {},
   "outputs": [],
   "source": [
    "c1 = SkyCoord(b=35*u.degree, l=178*u.degree, distance = 1*u.kpc, frame='galactic')"
   ]
  },
  {
   "cell_type": "code",
   "execution_count": 321,
   "metadata": {},
   "outputs": [
    {
     "data": {
      "text/plain": [
       "<SkyCoord (ICRS): (ra, dec, distance) in (deg, deg, kpc)\n",
       "    (126.68810118, 42.76471741, 1.)>"
      ]
     },
     "execution_count": 321,
     "metadata": {},
     "output_type": "execute_result"
    }
   ],
   "source": [
    "gg = c1.transform_to(coord.ICRS)\n",
    "#gg.representation = 'cylindrical'\n",
    "gg"
   ]
  },
  {
   "cell_type": "code",
   "execution_count": 323,
   "metadata": {},
   "outputs": [],
   "source": [
    "c2 = coord.ICRS(ra=126*u.degree, dec=42*u.degree, distance = 1*u.kpc)"
   ]
  },
  {
   "cell_type": "code",
   "execution_count": 324,
   "metadata": {},
   "outputs": [
    {
     "data": {
      "text/plain": [
       "<Galactocentric Coordinate (galcen_coord=<ICRS Coordinate: (ra, dec) in deg\n",
       "    (266.4051, -28.936175)>, galcen_distance=8.3 kpc, galcen_v_sun=(11.1, 232.24, 7.25) km / s, z_sun=27.0 pc, roll=0.0 deg): (rho, phi, z) in (kpc, deg, kpc)\n",
       "    (9.12303316, 179.89601159, 0.59471005)>"
      ]
     },
     "execution_count": 324,
     "metadata": {},
     "output_type": "execute_result"
    }
   ],
   "source": [
    "gg2 = c2.transform_to(Galactocentric)\n",
    "gg2.representation = 'cylindrical'\n",
    "gg2"
   ]
  },
  {
   "cell_type": "code",
   "execution_count": null,
   "metadata": {},
   "outputs": [],
   "source": []
  }
 ],
 "metadata": {
  "kernelspec": {
   "display_name": "Python 2",
   "language": "python",
   "name": "python2"
  }
 },
 "nbformat": 4,
 "nbformat_minor": 2
}
