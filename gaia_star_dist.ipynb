{
 "cells": [
  {
   "cell_type": "code",
   "execution_count": 1,
   "metadata": {},
   "outputs": [],
   "source": [
    "import numpy as np\n",
    "import matplotlib.pyplot as plt\n",
    "from astropy.coordinates import SkyCoord,Galactocentric,CartesianDifferential\n",
    "import astropy.units as u\n",
    "import astropy.coordinates as coord\n",
    "import h5py\n",
    "%matplotlib inline"
   ]
  },
  {
   "cell_type": "code",
   "execution_count": 210,
   "metadata": {},
   "outputs": [],
   "source": [
    "# ra, dec, parallax, G-mag\n",
    "#data = np.genfromtxt('/Users/nondh/Downloads/full_4kpc-result.csv', skip_header=1,delimiter=',')\n",
    "#data = np.loadtxt('/Users/nondh/Downloads/full_4kpc-result.csv', skiprows=1,delimiter=',')\n",
    "#data = np.loadtxt('/Users/nondh/Downloads/sample_50000-result.csv', skiprows=1,delimiter=',')\n",
    "def read_real_data():\n",
    "    data1 = np.loadtxt('/Users/nondh/Downloads/full_4kpc-result.csv', skiprows=1,delimiter=',')\n",
    "    data2 = np.loadtxt('frontside_100pc-result.csv', skiprows=1,delimiter=',')\n",
    "    data = np.vstack((data1, data2))\n",
    "    c = coord.ICRS(ra=data[:,2] * u.degree,\n",
    "                dec=data[:,3] * u.degree,\n",
    "                distance=(1./data[:,4]) * u.kpc)\n",
    "\n",
    "    gcentric = c.transform_to(coord.Galactocentric(galcen_v_sun = coord.CartesianDifferential((11.1, -232.24, 7.25)*u.km/u.s)))\n",
    "    gcentric.representation = 'cylindrical'\n",
    "    \n",
    "    n = np.append(np.where((gcentric.phi > 175*u.deg))[0], np.where((gcentric.phi < -175*u.deg))[0])\n",
    "    gcentric = gcentric[n]\n",
    "    return gcentric"
   ]
  },
  {
   "cell_type": "code",
   "execution_count": 153,
   "metadata": {},
   "outputs": [
    {
     "data": {
      "text/plain": [
       "21632646"
      ]
     },
     "execution_count": 153,
     "metadata": {},
     "output_type": "execute_result"
    }
   ],
   "source": [
    "def pick_subgroup(minmag=)"
   ]
  },
  {
   "cell_type": "code",
   "execution_count": 211,
   "metadata": {
    "scrolled": false
   },
   "outputs": [],
   "source": [
    "gcentric = read_real_data()"
   ]
  },
  {
   "cell_type": "code",
   "execution_count": 151,
   "metadata": {},
   "outputs": [],
   "source": [
    "c = coord.ICRS(ra=data[:,2] * u.degree,\n",
    "                dec=data[:,3] * u.degree,\n",
    "                distance=(1./data[:,4]) * u.kpc)\n",
    "\n",
    "gcentric = c.transform_to(coord.Galactocentric(galcen_v_sun = coord.CartesianDifferential((11.1, -232.24, 7.25)*u.km/u.s))) "
   ]
  },
  {
   "cell_type": "code",
   "execution_count": 152,
   "metadata": {},
   "outputs": [
    {
     "data": {
      "text/plain": [
       "<Galactocentric Coordinate (galcen_coord=<ICRS Coordinate: (ra, dec) in deg\n",
       "    (266.4051, -28.936175)>, galcen_distance=8.3 kpc, galcen_v_sun=(11.1, -232.24, 7.25) km / s, z_sun=27.0 pc, roll=0.0 deg): (rho, phi, z) in (kpc, deg, kpc)\n",
       "    [(7.73596498,  177.52517055,  0.57371015),\n",
       "     (7.92056041,  179.96725411, -0.23909014),\n",
       "     (7.94009813,  179.93356486, -0.23044625), ...,\n",
       "     (7.40784326,  179.97237185, -0.59840311),\n",
       "     (7.92591903,  178.39565733,  0.37701095),\n",
       "     (7.97327681, -179.99772466, -0.20310101)]>"
      ]
     },
     "execution_count": 152,
     "metadata": {},
     "output_type": "execute_result"
    }
   ],
   "source": [
    "gcentric.representation = 'cylindrical'\n",
    "gcentric"
   ]
  },
  {
   "cell_type": "code",
   "execution_count": 209,
   "metadata": {},
   "outputs": [
    {
     "data": {
      "text/plain": [
       "<Galactocentric Coordinate (galcen_coord=<ICRS Coordinate: (ra, dec) in deg\n",
       "    (266.4051, -28.936175)>, galcen_distance=8.3 kpc, galcen_v_sun=(11.1, -232.24, 7.25) km / s, z_sun=27.0 pc, roll=0.0 deg): (rho, phi, z) in (kpc, deg, kpc)\n",
       "    [(7.00110693, -179.41186782, -1.32439469),\n",
       "     (7.71913595, -179.8094146 , -0.581499  ),\n",
       "     (8.78466438, -177.56685867, -0.23079826), ...,\n",
       "     (7.53399351, -179.9957313 , -0.51258861),\n",
       "     (7.64089951, -179.99862079, -0.42453363),\n",
       "     (7.97327681, -179.99772466, -0.20310101)]>"
      ]
     },
     "execution_count": 209,
     "metadata": {},
     "output_type": "execute_result"
    }
   ],
   "source": [
    "gcentric[np.where((gcentric.phi < -175*u.deg))]"
   ]
  },
  {
   "cell_type": "code",
   "execution_count": 172,
   "metadata": {
    "scrolled": true
   },
   "outputs": [
    {
     "data": {
      "text/plain": [
       "8290458"
      ]
     },
     "execution_count": 172,
     "metadata": {},
     "output_type": "execute_result"
    }
   ],
   "source": [
    "np.where((gcentric.phi < -175*u.deg))[0]"
   ]
  },
  {
   "cell_type": "markdown",
   "metadata": {},
   "source": [
    "# Read in the data from mock catalogue"
   ]
  },
  {
   "cell_type": "code",
   "execution_count": 173,
   "metadata": {},
   "outputs": [],
   "source": [
    "f = h5py.File('lsr-2-rslice-0.m12i-res7100-md-sliced-gcat-dr2.hdf5', 'r')"
   ]
  },
  {
   "cell_type": "code",
   "execution_count": 174,
   "metadata": {},
   "outputs": [
    {
     "data": {
      "text/plain": [
       "[u'A0',\n",
       " u'a_g_bp_val',\n",
       " u'a_g_rp_val',\n",
       " u'a_g_val',\n",
       " u'age',\n",
       " u'alpha',\n",
       " u'b',\n",
       " u'b_true',\n",
       " u'bp_g',\n",
       " u'bp_g_int',\n",
       " u'bp_g_true',\n",
       " u'bp_rp',\n",
       " u'bp_rp_int',\n",
       " u'bp_rp_true',\n",
       " u'calcium',\n",
       " u'carbon',\n",
       " u'dec',\n",
       " u'dec_error',\n",
       " u'dec_true',\n",
       " u'dhel_true',\n",
       " u'dmod_true',\n",
       " u'e_bp_min_rp_val',\n",
       " u'ebv',\n",
       " u'feh',\n",
       " u'g_rp',\n",
       " u'g_rp_int',\n",
       " u'g_rp_true',\n",
       " u'helium',\n",
       " u'l',\n",
       " u'l_true',\n",
       " u'logg',\n",
       " u'lognh',\n",
       " u'lum_val',\n",
       " u'mact',\n",
       " u'magnesium',\n",
       " u'mini',\n",
       " u'mtip',\n",
       " u'neon',\n",
       " u'nitrogen',\n",
       " u'oxygen',\n",
       " u'parallax',\n",
       " u'parallax_error',\n",
       " u'parallax_over_error',\n",
       " u'parallax_true',\n",
       " u'parentid',\n",
       " u'partid',\n",
       " u'phot_bp_mean_mag',\n",
       " u'phot_bp_mean_mag_error',\n",
       " u'phot_bp_mean_mag_int',\n",
       " u'phot_bp_mean_mag_true',\n",
       " u'phot_g_mean_mag',\n",
       " u'phot_g_mean_mag_error',\n",
       " u'phot_g_mean_mag_int',\n",
       " u'phot_g_mean_mag_true',\n",
       " u'phot_rp_mean_mag',\n",
       " u'phot_rp_mean_mag_error',\n",
       " u'phot_rp_mean_mag_int',\n",
       " u'phot_rp_mean_mag_true',\n",
       " u'pmb_true',\n",
       " u'pmdec',\n",
       " u'pmdec_error',\n",
       " u'pmdec_true',\n",
       " u'pml_true',\n",
       " u'pmra',\n",
       " u'pmra_error',\n",
       " u'pmra_true',\n",
       " u'px_true',\n",
       " u'py_true',\n",
       " u'pz_true',\n",
       " u'ra',\n",
       " u'ra_error',\n",
       " u'ra_true',\n",
       " u'radial_velocity',\n",
       " u'radial_velocity_error',\n",
       " u'radial_velocity_true',\n",
       " u'random_index',\n",
       " u'silicon',\n",
       " u'source_id',\n",
       " u'sulphur',\n",
       " u'teff_val',\n",
       " u'vx_true',\n",
       " u'vy_true',\n",
       " u'vz_true']"
      ]
     },
     "execution_count": 174,
     "metadata": {},
     "output_type": "execute_result"
    }
   ],
   "source": [
    "# List all groups\n",
    "f.keys()"
   ]
  },
  {
   "cell_type": "code",
   "execution_count": 26,
   "metadata": {},
   "outputs": [],
   "source": [
    "ii = np.where((f['parallax'][:]>0.25) & (f['parallax_over_error'][:] > 10))[0]"
   ]
  },
  {
   "cell_type": "code",
   "execution_count": 38,
   "metadata": {},
   "outputs": [
    {
     "data": {
      "text/plain": [
       "array([0.42745022, 0.46285138, 0.46899979, ..., 0.6278187 , 0.49750184,\n",
       "       0.68114689])"
      ]
     },
     "execution_count": 38,
     "metadata": {},
     "output_type": "execute_result"
    }
   ],
   "source": [
    "f['parallax'][:][ii]"
   ]
  },
  {
   "cell_type": "code",
   "execution_count": 39,
   "metadata": {},
   "outputs": [],
   "source": [
    "mock_ra = f['ra'][:][ii]\n",
    "mock_dec = f['dec'][:][ii]\n",
    "mock_parallax = f['parallax'][:][ii]\n",
    "mock_bprp = f['bp_rp'][:][ii]\n",
    "mock_bprp_int = f['bp_rp_int'][:][ii]"
   ]
  },
  {
   "cell_type": "code",
   "execution_count": 31,
   "metadata": {},
   "outputs": [],
   "source": [
    "c_mock = coord.ICRS(ra=mock_ra * u.degree,\n",
    "                dec=mock_dec * u.degree,\n",
    "                distance=(1./mock_parallax) * u.kpc)\n",
    "\n",
    "gcentric_mock = c.transform_to(coord.Galactocentric(galcen_v_sun = coord.CartesianDifferential((11.1, -232.24, 7.25)*u.km/u.s))) "
   ]
  },
  {
   "cell_type": "code",
   "execution_count": 32,
   "metadata": {},
   "outputs": [
    {
     "data": {
      "text/plain": [
       "<Galactocentric Coordinate (galcen_coord=<ICRS Coordinate: (ra, dec) in deg\n",
       "    (266.4051, -28.936175)>, galcen_distance=8.3 kpc, galcen_v_sun=(11.1, -232.24, 7.25) km / s, z_sun=27.0 pc, roll=0.0 deg): (rho, phi, z) in (kpc, deg, kpc)\n",
       "    [(6.98671051, -148.47173225,  0.34411794),\n",
       "     (7.52053847, -171.8939422 , -0.33744767),\n",
       "     (8.83035248,  166.30244513, -0.04274612), ...,\n",
       "     (8.22858042, -172.33932109,  0.60478393),\n",
       "     (6.80723819, -174.78165177, -0.23304994),\n",
       "     (8.87193722,  179.41872878,  0.04906768)]>"
      ]
     },
     "execution_count": 32,
     "metadata": {},
     "output_type": "execute_result"
    }
   ],
   "source": [
    "gcentric_mock.representation = 'cylindrical'\n",
    "gcentric_mock"
   ]
  },
  {
   "cell_type": "markdown",
   "metadata": {},
   "source": [
    "# r-z space binning\n",
    "### 0.1x0.05 kpc"
   ]
  },
  {
   "cell_type": "markdown",
   "metadata": {},
   "source": [
    "## Real Gaia"
   ]
  },
  {
   "cell_type": "code",
   "execution_count": 61,
   "metadata": {},
   "outputs": [],
   "source": [
    "# assuming dat's columns are in #r, theta, z\n",
    "def get_bin_edges():\n",
    "    r_edges = np.array(range(40,131,1))/10.\n",
    "    r_edges = r_edges*u.kpc\n",
    "    z_edges = np.array(range(-250,255,5))/100.\n",
    "    z_edges = z_edges*u.kpc\n",
    "    return r_edges, z_edges\n",
    "    "
   ]
  },
  {
   "cell_type": "code",
   "execution_count": 109,
   "metadata": {},
   "outputs": [
    {
     "data": {
      "text/latex": [
       "$[4,~4.1,~4.2,~4.3,~4.4,~4.5,~4.6,~4.7,~4.8,~4.9,~5,~5.1,~5.2,~5.3,~5.4,~5.5,~5.6,~5.7,~5.8,~5.9,~6,~6.1,~6.2,~6.3,~6.4,~6.5,~6.6,~6.7,~6.8,~6.9,~7,~7.1,~7.2,~7.3,~7.4,~7.5,~7.6,~7.7,~7.8,~7.9,~8,~8.1,~8.2,~8.3,~8.4,~8.5,~8.6,~8.7,~8.8,~8.9,~9,~9.1,~9.2,~9.3,~9.4,~9.5,~9.6,~9.7,~9.8,~9.9,~10,~10.1,~10.2,~10.3,~10.4,~10.5,~10.6,~10.7,~10.8,~10.9,~11,~11.1,~11.2,~11.3,~11.4,~11.5,~11.6,~11.7,~11.8,~11.9,~12,~12.1,~12.2,~12.3,~12.4,~12.5,~12.6,~12.7,~12.8,~12.9,~13] \\; \\mathrm{kpc}$"
      ],
      "text/plain": [
       "<Quantity [ 4. ,  4.1,  4.2,  4.3,  4.4,  4.5,  4.6,  4.7,  4.8,  4.9,\n",
       "            5. ,  5.1,  5.2,  5.3,  5.4,  5.5,  5.6,  5.7,  5.8,  5.9,\n",
       "            6. ,  6.1,  6.2,  6.3,  6.4,  6.5,  6.6,  6.7,  6.8,  6.9,\n",
       "            7. ,  7.1,  7.2,  7.3,  7.4,  7.5,  7.6,  7.7,  7.8,  7.9,\n",
       "            8. ,  8.1,  8.2,  8.3,  8.4,  8.5,  8.6,  8.7,  8.8,  8.9,\n",
       "            9. ,  9.1,  9.2,  9.3,  9.4,  9.5,  9.6,  9.7,  9.8,  9.9,\n",
       "           10. , 10.1, 10.2, 10.3, 10.4, 10.5, 10.6, 10.7, 10.8, 10.9,\n",
       "           11. , 11.1, 11.2, 11.3, 11.4, 11.5, 11.6, 11.7, 11.8, 11.9,\n",
       "           12. , 12.1, 12.2, 12.3, 12.4, 12.5, 12.6, 12.7, 12.8, 12.9,\n",
       "           13. ] kpc>"
      ]
     },
     "execution_count": 109,
     "metadata": {},
     "output_type": "execute_result"
    }
   ],
   "source": [
    "rr, zz = get_bin_edges()\n",
    "rr"
   ]
  },
  {
   "cell_type": "code",
   "execution_count": 182,
   "metadata": {},
   "outputs": [],
   "source": [
    "def pad_withNan(p):\n",
    "    ii,jj = np.where(p < 10)\n",
    "    for i, j in zip(ii, jj):\n",
    "        p[i,j] = np.nan\n",
    "    return p"
   ]
  },
  {
   "cell_type": "code",
   "execution_count": 183,
   "metadata": {},
   "outputs": [],
   "source": [
    "def get_hist(gcentric, rr, zz):\n",
    "    H, e1, e2 = np.histogram2d(gcentric.rho, gcentric.z, bins=(rr, zz))\n",
    "    H = H.T\n",
    "    H_new = pad_withNan(H)\n",
    "    \n",
    "    fig = plt.figure(figsize=((12,8)))\n",
    "    ax = fig.add_subplot(1,1,1)\n",
    "    X, Y = np.meshgrid(e1, e2)\n",
    "    im = ax.pcolormesh(X, Y, H_new, cmap='jet')\n",
    "    fig.colorbar(im, ax =ax)\n",
    "    #return H, e1, e2"
   ]
  },
  {
   "cell_type": "code",
   "execution_count": 184,
   "metadata": {},
   "outputs": [
    {
     "data": {
      "image/png": "[encoded data removed]",
      "text/plain": [
       "<Figure size 864x576 with 2 Axes>"
      ]
     },
     "metadata": {
      "needs_background": "light"
     },
     "output_type": "display_data"
    }
   ],
   "source": [
    "get_hist(gcentric, rr, zz)"
   ]
  },
  {
   "cell_type": "markdown",
   "metadata": {},
   "source": [
    "## Mock Gaia"
   ]
  },
  {
   "cell_type": "code",
   "execution_count": 185,
   "metadata": {},
   "outputs": [
    {
     "data": {
      "image/png": "[encoded data removed]",
      "text/plain": [
       "<Figure size 864x576 with 2 Axes>"
      ]
     },
     "metadata": {
      "needs_background": "light"
     },
     "output_type": "display_data"
    }
   ],
   "source": [
    "get_hist(gcentric_mock, rr, zz)"
   ]
  },
  {
   "cell_type": "code",
   "execution_count": 181,
   "metadata": {},
   "outputs": [
    {
     "data": {
      "text/plain": [
       "<Galactocentric Coordinate (galcen_coord=<ICRS Coordinate: (ra, dec) in deg\n",
       "    (266.4051, -28.936175)>, galcen_distance=8.3 kpc, galcen_v_sun=(11.1, -232.24, 7.25) km / s, z_sun=27.0 pc, roll=0.0 deg): (rho, phi, z) in (kpc, deg, kpc)\n",
       "    [(6.98671051, -148.47173225,  0.34411794),\n",
       "     (7.52053847, -171.8939422 , -0.33744767),\n",
       "     (8.83035248,  166.30244513, -0.04274612), ...,\n",
       "     (8.22858042, -172.33932109,  0.60478393),\n",
       "     (6.80723819, -174.78165177, -0.23304994),\n",
       "     (8.87193722,  179.41872878,  0.04906768)]>"
      ]
     },
     "execution_count": 181,
     "metadata": {},
     "output_type": "execute_result"
    }
   ],
   "source": [
    "gcentric_mock"
   ]
  },
  {
   "cell_type": "code",
   "execution_count": 41,
   "metadata": {},
   "outputs": [],
   "source": [
    "import emcee"
   ]
  },
  {
   "cell_type": "code",
   "execution_count": 59,
   "metadata": {
    "scrolled": true
   },
   "outputs": [
    {
     "data": {
      "text/latex": [
       "$[4,~4.1,~4.2,~4.3,~4.4,~4.5,~4.6,~4.7,~4.8,~4.9,~5,~5.1,~5.2,~5.3,~5.4,~5.5,~5.6,~5.7,~5.8,~5.9,~6,~6.1,~6.2,~6.3,~6.4,~6.5,~6.6,~6.7,~6.8,~6.9,~7,~7.1,~7.2,~7.3,~7.4,~7.5,~7.6,~7.7,~7.8,~7.9,~8,~8.1,~8.2,~8.3,~8.4,~8.5,~8.6,~8.7,~8.8,~8.9,~9,~9.1,~9.2,~9.3,~9.4,~9.5,~9.6,~9.7,~9.8,~9.9,~10,~10.1,~10.2,~10.3,~10.4,~10.5,~10.6,~10.7,~10.8,~10.9,~11,~11.1,~11.2,~11.3,~11.4,~11.5,~11.6,~11.7,~11.8,~11.9,~12,~12.1,~12.2,~12.3,~12.4,~12.5,~12.6,~12.7,~12.8,~12.9,~13] \\; \\mathrm{kpc}$"
      ],
      "text/plain": [
       "<Quantity [ 4. ,  4.1,  4.2,  4.3,  4.4,  4.5,  4.6,  4.7,  4.8,  4.9,\n",
       "            5. ,  5.1,  5.2,  5.3,  5.4,  5.5,  5.6,  5.7,  5.8,  5.9,\n",
       "            6. ,  6.1,  6.2,  6.3,  6.4,  6.5,  6.6,  6.7,  6.8,  6.9,\n",
       "            7. ,  7.1,  7.2,  7.3,  7.4,  7.5,  7.6,  7.7,  7.8,  7.9,\n",
       "            8. ,  8.1,  8.2,  8.3,  8.4,  8.5,  8.6,  8.7,  8.8,  8.9,\n",
       "            9. ,  9.1,  9.2,  9.3,  9.4,  9.5,  9.6,  9.7,  9.8,  9.9,\n",
       "           10. , 10.1, 10.2, 10.3, 10.4, 10.5, 10.6, 10.7, 10.8, 10.9,\n",
       "           11. , 11.1, 11.2, 11.3, 11.4, 11.5, 11.6, 11.7, 11.8, 11.9,\n",
       "           12. , 12.1, 12.2, 12.3, 12.4, 12.5, 12.6, 12.7, 12.8, 12.9,\n",
       "           13. ] kpc>"
      ]
     },
     "execution_count": 59,
     "metadata": {},
     "output_type": "execute_result"
    }
   ],
   "source": [
    "r_edges"
   ]
  },
  {
   "cell_type": "code",
   "execution_count": 60,
   "metadata": {},
   "outputs": [
    {
     "data": {
      "text/latex": [
       "$[-2.5,~-2.45,~-2.4,~-2.35,~-2.3,~-2.25,~-2.2,~-2.15,~-2.1,~-2.05,~-2,~-1.95,~-1.9,~-1.85,~-1.8,~-1.75,~-1.7,~-1.65,~-1.6,~-1.55,~-1.5,~-1.45,~-1.4,~-1.35,~-1.3,~-1.25,~-1.2,~-1.15,~-1.1,~-1.05,~-1,~-0.95,~-0.9,~-0.85,~-0.8,~-0.75,~-0.7,~-0.65,~-0.6,~-0.55,~-0.5,~-0.45,~-0.4,~-0.35,~-0.3,~-0.25,~-0.2,~-0.15,~-0.1,~-0.05,~0,~0.05,~0.1,~0.15,~0.2,~0.25,~0.3,~0.35,~0.4,~0.45,~0.5,~0.55,~0.6,~0.65,~0.7,~0.75,~0.8,~0.85,~0.9,~0.95,~1,~1.05,~1.1,~1.15,~1.2,~1.25,~1.3,~1.35,~1.4,~1.45,~1.5,~1.55,~1.6,~1.65,~1.7,~1.75,~1.8,~1.85,~1.9,~1.95,~2,~2.05,~2.1,~2.15,~2.2,~2.25,~2.3,~2.35,~2.4,~2.45] \\; \\mathrm{kpc}$"
      ],
      "text/plain": [
       "<Quantity [-2.5 , -2.45, -2.4 , -2.35, -2.3 , -2.25, -2.2 , -2.15, -2.1 ,\n",
       "           -2.05, -2.  , -1.95, -1.9 , -1.85, -1.8 , -1.75, -1.7 , -1.65,\n",
       "           -1.6 , -1.55, -1.5 , -1.45, -1.4 , -1.35, -1.3 , -1.25, -1.2 ,\n",
       "           -1.15, -1.1 , -1.05, -1.  , -0.95, -0.9 , -0.85, -0.8 , -0.75,\n",
       "           -0.7 , -0.65, -0.6 , -0.55, -0.5 , -0.45, -0.4 , -0.35, -0.3 ,\n",
       "           -0.25, -0.2 , -0.15, -0.1 , -0.05,  0.  ,  0.05,  0.1 ,  0.15,\n",
       "            0.2 ,  0.25,  0.3 ,  0.35,  0.4 ,  0.45,  0.5 ,  0.55,  0.6 ,\n",
       "            0.65,  0.7 ,  0.75,  0.8 ,  0.85,  0.9 ,  0.95,  1.  ,  1.05,\n",
       "            1.1 ,  1.15,  1.2 ,  1.25,  1.3 ,  1.35,  1.4 ,  1.45,  1.5 ,\n",
       "            1.55,  1.6 ,  1.65,  1.7 ,  1.75,  1.8 ,  1.85,  1.9 ,  1.95,\n",
       "            2.  ,  2.05,  2.1 ,  2.15,  2.2 ,  2.25,  2.3 ,  2.35,  2.4 ,\n",
       "            2.45] kpc>"
      ]
     },
     "execution_count": 60,
     "metadata": {},
     "output_type": "execute_result"
    }
   ],
   "source": [
    "z_edges"
   ]
  },
  {
   "cell_type": "code",
   "execution_count": 55,
   "metadata": {},
   "outputs": [],
   "source": [
    "r_edges = np.array(range(40,131,1))/10."
   ]
  },
  {
   "cell_type": "code",
   "execution_count": 56,
   "metadata": {},
   "outputs": [
    {
     "data": {
      "text/plain": [
       "array([ 4. ,  4.1,  4.2,  4.3,  4.4,  4.5,  4.6,  4.7,  4.8,  4.9,  5. ,\n",
       "        5.1,  5.2,  5.3,  5.4,  5.5,  5.6,  5.7,  5.8,  5.9,  6. ,  6.1,\n",
       "        6.2,  6.3,  6.4,  6.5,  6.6,  6.7,  6.8,  6.9,  7. ,  7.1,  7.2,\n",
       "        7.3,  7.4,  7.5,  7.6,  7.7,  7.8,  7.9,  8. ,  8.1,  8.2,  8.3,\n",
       "        8.4,  8.5,  8.6,  8.7,  8.8,  8.9,  9. ,  9.1,  9.2,  9.3,  9.4,\n",
       "        9.5,  9.6,  9.7,  9.8,  9.9, 10. , 10.1, 10.2, 10.3, 10.4, 10.5,\n",
       "       10.6, 10.7, 10.8, 10.9, 11. , 11.1, 11.2, 11.3, 11.4, 11.5, 11.6,\n",
       "       11.7, 11.8, 11.9, 12. , 12.1, 12.2, 12.3, 12.4, 12.5, 12.6, 12.7,\n",
       "       12.8, 12.9, 13. ])"
      ]
     },
     "execution_count": 56,
     "metadata": {},
     "output_type": "execute_result"
    }
   ],
   "source": [
    "r_edges"
   ]
  },
  {
   "cell_type": "code",
   "execution_count": null,
   "metadata": {},
   "outputs": [],
   "source": []
  }
 ],
 "metadata": {
  "kernelspec": {
   "display_name": "Python 2",
   "language": "python",
   "name": "python2"
  },
  "language_info": {
   "codemirror_mode": {
    "name": "ipython",
    "version": 2
   },
   "file_extension": ".py",
   "mimetype": "text/x-python",
   "name": "python",
   "nbconvert_exporter": "python",
   "pygments_lexer": "ipython2",
   "version": "2.7.15"
  }
 },
 "nbformat": 4,
 "nbformat_minor": 2
}
