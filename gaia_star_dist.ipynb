{
 "cells": [
  {
   "cell_type": "code",
   "execution_count": 4,
   "metadata": {},
   "outputs": [],
   "source": [
    "import numpy as np\n",
    "import matplotlib.pyplot as plt\n",
    "from astropy.coordinates import SkyCoord,Galactocentric,CartesianDifferential\n",
    "import astropy.units as u\n",
    "import astropy.coordinates as coord\n",
    "import h5py\n",
    "%matplotlib inline"
   ]
  },
  {
   "cell_type": "code",
   "execution_count": 212,
   "metadata": {},
   "outputs": [],
   "source": [
    "# mg,bp_rp,ra,dec,parallax,phot_g_mean_mag\n",
    "#data = np.genfromtxt('/Users/nondh/Downloads/full_4kpc-result.csv', skip_header=1,delimiter=',')\n",
    "#data = np.loadtxt('/Users/nondh/Downloads/full_4kpc-result.csv', skiprows=1,delimiter=',')\n",
    "#data = np.loadtxt('/Users/nondh/Downloads/sample_50000-result.csv', skiprows=1,delimiter=',')\n",
    "def read_real_data():\n",
    "    data1 = np.loadtxt('/Users/nondh/Downloads/full_4kpc-result.csv', skiprows=1,delimiter=',')\n",
    "    data2 = np.loadtxt('frontside_100pc-result.csv', skiprows=1,delimiter=',')\n",
    "    data = np.vstack((data1, data2))\n",
    "    c = coord.ICRS(ra=data[:,2] * u.degree,\n",
    "                dec=data[:,3] * u.degree,\n",
    "                distance=(1./data[:,4]) * u.kpc)\n",
    "\n",
    "    gcentric = c.transform_to(coord.Galactocentric(galcen_v_sun = coord.CartesianDifferential((11.1, -232.24, 7.25)*u.km/u.s)))\n",
    "    gcentric.representation = 'cylindrical'\n",
    "    \n",
    "    n = np.append(np.where((gcentric.phi > 175*u.deg))[0], np.where((gcentric.phi < -175*u.deg))[0])\n",
    "    gcentric = gcentric[n]\n",
    "    return gcentric, (data[:,:2])[n]"
   ]
  },
  {
   "cell_type": "code",
   "execution_count": 236,
   "metadata": {},
   "outputs": [],
   "source": [
    "def pick_subgroup(gcentric, dat, minmag=2.5, maxmag=3, gmin=5):\n",
    "    return gcentric[np.where((dat[:,0]>gmin) & (dat[:,1] > minmag) & (dat[:,1] < maxmag))]"
   ]
  },
  {
   "cell_type": "code",
   "execution_count": 214,
   "metadata": {
    "scrolled": false
   },
   "outputs": [],
   "source": [
    "gcentric, dat = read_real_data()"
   ]
  },
  {
   "cell_type": "code",
   "execution_count": 225,
   "metadata": {},
   "outputs": [
    {
     "name": "stdout",
     "output_type": "stream",
     "text": [
      "16452345 16452345\n"
     ]
    }
   ],
   "source": [
    "print len(gcentric), len(dat)"
   ]
  },
  {
   "cell_type": "code",
   "execution_count": 237,
   "metadata": {},
   "outputs": [],
   "source": [
    "g_sub = pick_subgroup(gcentric, dat)"
   ]
  },
  {
   "cell_type": "code",
   "execution_count": 238,
   "metadata": {},
   "outputs": [
    {
     "data": {
      "text/plain": [
       "1241211"
      ]
     },
     "execution_count": 238,
     "metadata": {},
     "output_type": "execute_result"
    }
   ],
   "source": [
    "len(g_sub)"
   ]
  },
  {
   "cell_type": "code",
   "execution_count": 209,
   "metadata": {},
   "outputs": [
    {
     "data": {
      "text/plain": [
       "<Galactocentric Coordinate (galcen_coord=<ICRS Coordinate: (ra, dec) in deg\n",
       "    (266.4051, -28.936175)>, galcen_distance=8.3 kpc, galcen_v_sun=(11.1, -232.24, 7.25) km / s, z_sun=27.0 pc, roll=0.0 deg): (rho, phi, z) in (kpc, deg, kpc)\n",
       "    [(7.00110693, -179.41186782, -1.32439469),\n",
       "     (7.71913595, -179.8094146 , -0.581499  ),\n",
       "     (8.78466438, -177.56685867, -0.23079826), ...,\n",
       "     (7.53399351, -179.9957313 , -0.51258861),\n",
       "     (7.64089951, -179.99862079, -0.42453363),\n",
       "     (7.97327681, -179.99772466, -0.20310101)]>"
      ]
     },
     "execution_count": 209,
     "metadata": {},
     "output_type": "execute_result"
    }
   ],
   "source": []
  },
  {
   "cell_type": "code",
   "execution_count": 172,
   "metadata": {
    "scrolled": true
   },
   "outputs": [
    {
     "data": {
      "text/plain": [
       "8290458"
      ]
     },
     "execution_count": 172,
     "metadata": {},
     "output_type": "execute_result"
    }
   ],
   "source": []
  },
  {
   "cell_type": "markdown",
   "metadata": {},
   "source": [
    "# Read in the data from mock catalogue"
   ]
  },
  {
   "cell_type": "markdown",
   "metadata": {},
   "source": [
    "using m12f lsr0"
   ]
  },
  {
   "cell_type": "code",
   "execution_count": null,
   "metadata": {},
   "outputs": [],
   "source": [
    "for i in range(10):\n",
    "    loc = '/mnt/ceph/users/firesims/ananke/GaiaMocks/m12f/lsr_0/lsr-0-rslice-{}.m12f-res7100-md-sliced-gcat-dr2.hdf5'.format(i)\n",
    "    f = h5py.File(loc, 'r')\n",
    "    \n",
    "    # pick high latitude stars\n",
    "    i_high = np.where((f['parallax'][:]>0.25) & (f['parallax_over_error'][:] > 10) & ((f['b'][:] > 20) | (f['b'][:] < -20)) )[0]\n",
    "    \n",
    "    # pick backside\n",
    "    i_back = np.where((f['parallax'][:]>0.5) & (f['parallax_over_error'][:] > 10) & (f['b'][:] < 20) & (f['b'][:] > -20) & ((f['l'] >90) | (f['l'] < -90)))[0]\n",
    "    \n",
    "    # prick frontside\n",
    "    i_front = np.where((f['parallax'][:]>10) & (f['parallax_over_error'][:] > 10) & (f['b'][:] < 20) & (f['b'][:] > -20) & (f['l'] <90) & (f['l'] > -90))[0]\n",
    "    \n",
    "    i_all = np.append(i_high, i_back)\n",
    "    i_all = np.append(i_all, i_front)\n",
    "    \n",
    "    mock_ra = f['ra'][:][i_all]\n",
    "    mock_dec = f['dec'][:][i_all]\n",
    "    mock_parallax = f['parallax'][:][i_all]\n",
    "    mock_bprp = f['bp_rp'][:][i_all]\n",
    "    mock_bprp_int = f['bp_rp_int'][:][i_all]\n",
    "    mock_phot_g_mean_mag = f['phot_g_mean_mag'][:][i_all]\n",
    "    mock_phot_g_mean_mag_int = f['phot_g_mean_mag_int'][:][i_all]\n",
    "    \n",
    "    mock_dist = 1/mock_parallax # in kpc\n",
    "    mock_G = mock_phot_g_mean_mag - 10 + 5*np.log10(mock_parallax)\n",
    "    mock_G_int = mock_phot_g_mean_mag_int - 10 + 5*np.log10(mock_parallax)\n",
    "    \n",
    "    dat_i = np.column_stack((mock_ra, mock_dec, mock_dist, mock_G, mock_bprp, mock_G_int, mock_bprp_int))\n",
    "    "
   ]
  },
  {
   "cell_type": "code",
   "execution_count": 173,
   "metadata": {},
   "outputs": [],
   "source": [
    "f = h5py.File('lsr-2-rslice-0.m12i-res7100-md-sliced-gcat-dr2.hdf5', 'r')"
   ]
  },
  {
   "cell_type": "code",
   "execution_count": 174,
   "metadata": {},
   "outputs": [
    {
     "data": {
      "text/plain": [
       "[u'A0',\n",
       " u'a_g_bp_val',\n",
       " u'a_g_rp_val',\n",
       " u'a_g_val',\n",
       " u'age',\n",
       " u'alpha',\n",
       " u'b',\n",
       " u'b_true',\n",
       " u'bp_g',\n",
       " u'bp_g_int',\n",
       " u'bp_g_true',\n",
       " u'bp_rp',\n",
       " u'bp_rp_int',\n",
       " u'bp_rp_true',\n",
       " u'calcium',\n",
       " u'carbon',\n",
       " u'dec',\n",
       " u'dec_error',\n",
       " u'dec_true',\n",
       " u'dhel_true',\n",
       " u'dmod_true',\n",
       " u'e_bp_min_rp_val',\n",
       " u'ebv',\n",
       " u'feh',\n",
       " u'g_rp',\n",
       " u'g_rp_int',\n",
       " u'g_rp_true',\n",
       " u'helium',\n",
       " u'l',\n",
       " u'l_true',\n",
       " u'logg',\n",
       " u'lognh',\n",
       " u'lum_val',\n",
       " u'mact',\n",
       " u'magnesium',\n",
       " u'mini',\n",
       " u'mtip',\n",
       " u'neon',\n",
       " u'nitrogen',\n",
       " u'oxygen',\n",
       " u'parallax',\n",
       " u'parallax_error',\n",
       " u'parallax_over_error',\n",
       " u'parallax_true',\n",
       " u'parentid',\n",
       " u'partid',\n",
       " u'phot_bp_mean_mag',\n",
       " u'phot_bp_mean_mag_error',\n",
       " u'phot_bp_mean_mag_int',\n",
       " u'phot_bp_mean_mag_true',\n",
       " u'phot_g_mean_mag',\n",
       " u'phot_g_mean_mag_error',\n",
       " u'phot_g_mean_mag_int',\n",
       " u'phot_g_mean_mag_true',\n",
       " u'phot_rp_mean_mag',\n",
       " u'phot_rp_mean_mag_error',\n",
       " u'phot_rp_mean_mag_int',\n",
       " u'phot_rp_mean_mag_true',\n",
       " u'pmb_true',\n",
       " u'pmdec',\n",
       " u'pmdec_error',\n",
       " u'pmdec_true',\n",
       " u'pml_true',\n",
       " u'pmra',\n",
       " u'pmra_error',\n",
       " u'pmra_true',\n",
       " u'px_true',\n",
       " u'py_true',\n",
       " u'pz_true',\n",
       " u'ra',\n",
       " u'ra_error',\n",
       " u'ra_true',\n",
       " u'radial_velocity',\n",
       " u'radial_velocity_error',\n",
       " u'radial_velocity_true',\n",
       " u'random_index',\n",
       " u'silicon',\n",
       " u'source_id',\n",
       " u'sulphur',\n",
       " u'teff_val',\n",
       " u'vx_true',\n",
       " u'vy_true',\n",
       " u'vz_true']"
      ]
     },
     "execution_count": 174,
     "metadata": {},
     "output_type": "execute_result"
    }
   ],
   "source": [
    "# List all groups\n",
    "f.keys()"
   ]
  },
  {
   "cell_type": "code",
   "execution_count": 26,
   "metadata": {},
   "outputs": [],
   "source": [
    "ii = np.where((f['parallax'][:]>0.25) & (f['parallax_over_error'][:] > 10))[0]"
   ]
  },
  {
   "cell_type": "code",
   "execution_count": 38,
   "metadata": {},
   "outputs": [
    {
     "data": {
      "text/plain": [
       "array([0.42745022, 0.46285138, 0.46899979, ..., 0.6278187 , 0.49750184,\n",
       "       0.68114689])"
      ]
     },
     "execution_count": 38,
     "metadata": {},
     "output_type": "execute_result"
    }
   ],
   "source": [
    "f['parallax'][:][ii]"
   ]
  },
  {
   "cell_type": "code",
   "execution_count": 39,
   "metadata": {},
   "outputs": [],
   "source": [
    "mock_ra = f['ra'][:][ii]\n",
    "mock_dec = f['dec'][:][ii]\n",
    "mock_parallax = f['parallax'][:][ii]\n",
    "mock_bprp = f['bp_rp'][:][ii]\n",
    "mock_bprp_int = f['bp_rp_int'][:][ii]"
   ]
  },
  {
   "cell_type": "code",
   "execution_count": 31,
   "metadata": {},
   "outputs": [],
   "source": [
    "c_mock = coord.ICRS(ra=mock_ra * u.degree,\n",
    "                dec=mock_dec * u.degree,\n",
    "                distance=(1./mock_parallax) * u.kpc)\n",
    "\n",
    "gcentric_mock = c.transform_to(coord.Galactocentric(galcen_v_sun = coord.CartesianDifferential((11.1, -232.24, 7.25)*u.km/u.s))) "
   ]
  },
  {
   "cell_type": "code",
   "execution_count": 32,
   "metadata": {},
   "outputs": [
    {
     "data": {
      "text/plain": [
       "<Galactocentric Coordinate (galcen_coord=<ICRS Coordinate: (ra, dec) in deg\n",
       "    (266.4051, -28.936175)>, galcen_distance=8.3 kpc, galcen_v_sun=(11.1, -232.24, 7.25) km / s, z_sun=27.0 pc, roll=0.0 deg): (rho, phi, z) in (kpc, deg, kpc)\n",
       "    [(6.98671051, -148.47173225,  0.34411794),\n",
       "     (7.52053847, -171.8939422 , -0.33744767),\n",
       "     (8.83035248,  166.30244513, -0.04274612), ...,\n",
       "     (8.22858042, -172.33932109,  0.60478393),\n",
       "     (6.80723819, -174.78165177, -0.23304994),\n",
       "     (8.87193722,  179.41872878,  0.04906768)]>"
      ]
     },
     "execution_count": 32,
     "metadata": {},
     "output_type": "execute_result"
    }
   ],
   "source": [
    "gcentric_mock.representation = 'cylindrical'\n",
    "gcentric_mock"
   ]
  },
  {
   "cell_type": "markdown",
   "metadata": {},
   "source": [
    "# r-z space binning\n",
    "### 0.1x0.05 kpc"
   ]
  },
  {
   "cell_type": "markdown",
   "metadata": {},
   "source": [
    "## Real Gaia"
   ]
  },
  {
   "cell_type": "code",
   "execution_count": 262,
   "metadata": {},
   "outputs": [],
   "source": [
    "# assuming dat's columns are in #r, theta, z\n",
    "def get_bin_edges():\n",
    "    r_edges = np.array(range(70,101,1))/10.\n",
    "    r_edges = r_edges*u.kpc\n",
    "    z_edges = np.array(range(-100,105,5))/100.\n",
    "    z_edges = z_edges*u.kpc\n",
    "    return r_edges, z_edges\n",
    "    "
   ]
  },
  {
   "cell_type": "code",
   "execution_count": 263,
   "metadata": {},
   "outputs": [
    {
     "data": {
      "text/latex": [
       "$[7,~7.1,~7.2,~7.3,~7.4,~7.5,~7.6,~7.7,~7.8,~7.9,~8,~8.1,~8.2,~8.3,~8.4,~8.5,~8.6,~8.7,~8.8,~8.9,~9,~9.1,~9.2,~9.3,~9.4,~9.5,~9.6,~9.7,~9.8,~9.9,~10] \\; \\mathrm{kpc}$"
      ],
      "text/plain": [
       "<Quantity [ 7. ,  7.1,  7.2,  7.3,  7.4,  7.5,  7.6,  7.7,  7.8,  7.9,\n",
       "            8. ,  8.1,  8.2,  8.3,  8.4,  8.5,  8.6,  8.7,  8.8,  8.9,\n",
       "            9. ,  9.1,  9.2,  9.3,  9.4,  9.5,  9.6,  9.7,  9.8,  9.9,\n",
       "           10. ] kpc>"
      ]
     },
     "execution_count": 263,
     "metadata": {},
     "output_type": "execute_result"
    }
   ],
   "source": [
    "rr, zz = get_bin_edges()\n",
    "rr"
   ]
  },
  {
   "cell_type": "code",
   "execution_count": 257,
   "metadata": {},
   "outputs": [],
   "source": [
    "def pad_withNan(p):\n",
    "    ii,jj = np.where(p < 1)\n",
    "    for i, j in zip(ii, jj):\n",
    "        p[i,j] = np.nan\n",
    "    return p"
   ]
  },
  {
   "cell_type": "code",
   "execution_count": 264,
   "metadata": {},
   "outputs": [],
   "source": [
    "def get_hist(gcentric, rr, zz):\n",
    "    H, e1, e2 = np.histogram2d(gcentric.rho, gcentric.z, bins=(rr, zz))\n",
    "    H = H.T\n",
    "    H_new = pad_withNan(H)\n",
    "    \n",
    "    fig = plt.figure(figsize=((12,8)))\n",
    "    ax = fig.add_subplot(1,1,1)\n",
    "    X, Y = np.meshgrid(e1, e2)\n",
    "    im = ax.pcolormesh(X, Y, H_new, cmap='gist_heat')\n",
    "    fig.colorbar(im, ax =ax)\n",
    "    #return H, e1, e2"
   ]
  },
  {
   "cell_type": "code",
   "execution_count": 265,
   "metadata": {},
   "outputs": [
    {
     "data": {
      "image/png": "[encoded data removed]",
      "text/plain": [
       "<Figure size 864x576 with 2 Axes>"
      ]
     },
     "metadata": {
      "needs_background": "light"
     },
     "output_type": "display_data"
    }
   ],
   "source": [
    "get_hist(g_sub, rr, zz)"
   ]
  },
  {
   "cell_type": "markdown",
   "metadata": {},
   "source": [
    "## Mock Gaia"
   ]
  },
  {
   "cell_type": "code",
   "execution_count": 185,
   "metadata": {},
   "outputs": [
    {
     "data": {
      "image/png": "[encoded data removed]",
      "text/plain": [
       "<Figure size 864x576 with 2 Axes>"
      ]
     },
     "metadata": {
      "needs_background": "light"
     },
     "output_type": "display_data"
    }
   ],
   "source": [
    "get_hist(gcentric_mock, rr, zz)"
   ]
  },
  {
   "cell_type": "code",
   "execution_count": 181,
   "metadata": {},
   "outputs": [
    {
     "data": {
      "text/plain": [
       "<Galactocentric Coordinate (galcen_coord=<ICRS Coordinate: (ra, dec) in deg\n",
       "    (266.4051, -28.936175)>, galcen_distance=8.3 kpc, galcen_v_sun=(11.1, -232.24, 7.25) km / s, z_sun=27.0 pc, roll=0.0 deg): (rho, phi, z) in (kpc, deg, kpc)\n",
       "    [(6.98671051, -148.47173225,  0.34411794),\n",
       "     (7.52053847, -171.8939422 , -0.33744767),\n",
       "     (8.83035248,  166.30244513, -0.04274612), ...,\n",
       "     (8.22858042, -172.33932109,  0.60478393),\n",
       "     (6.80723819, -174.78165177, -0.23304994),\n",
       "     (8.87193722,  179.41872878,  0.04906768)]>"
      ]
     },
     "execution_count": 181,
     "metadata": {},
     "output_type": "execute_result"
    }
   ],
   "source": [
    "gcentric_mock"
   ]
  },
  {
   "cell_type": "markdown",
   "metadata": {},
   "source": [
    "# MCMC Fit "
   ]
  },
  {
   "cell_type": "code",
   "execution_count": null,
   "metadata": {},
   "outputs": [],
   "source": [
    "import emcee"
   ]
  },
  {
   "cell_type": "code",
   "execution_count": null,
   "metadata": {},
   "outputs": [],
   "source": []
  },
  {
   "cell_type": "code",
   "execution_count": null,
   "metadata": {},
   "outputs": [],
   "source": []
  },
  {
   "cell_type": "code",
   "execution_count": null,
   "metadata": {},
   "outputs": [],
   "source": []
  },
  {
   "cell_type": "code",
   "execution_count": null,
   "metadata": {},
   "outputs": [],
   "source": []
  },
  {
   "cell_type": "code",
   "execution_count": null,
   "metadata": {},
   "outputs": [],
   "source": []
  },
  {
   "cell_type": "code",
   "execution_count": null,
   "metadata": {},
   "outputs": [],
   "source": []
  },
  {
   "cell_type": "code",
   "execution_count": null,
   "metadata": {},
   "outputs": [],
   "source": []
  },
  {
   "cell_type": "code",
   "execution_count": 25,
   "metadata": {},
   "outputs": [],
   "source": [
    "def get_bin_edges():\n",
    "    #r_edges = np.linspace(6.5,10.1,361)*u.kpc\n",
    "    #z_edges = np.linspace(-2.5,2.5,1001)*u.kpc\n",
    "    r_edges = np.linspace(6.5,10.1,37)*u.kpc\n",
    "    z_edges = np.linspace(-2.5,2.5,101)*u.kpc\n",
    "    return r_edges, z_edges\n",
    "\n",
    "def get_hist(gcentric):\n",
    "    rr, zz = get_bin_edges()\n",
    "    H, e1, e2 = np.histogram2d(gcentric.rho, gcentric.z, bins=(rr, zz))\n",
    "    \n",
    "    l = (len(rr)-1) * (len(zz)-1)\n",
    "    r_array = np.zeros(l)*u.kpc\n",
    "    z_array = np.zeros(l)*u.kpc\n",
    "    val = np.zeros(l)\n",
    "    r_center = 0.5*(rr[1:] + rr[:-1])\n",
    "    z_center = 0.5*(zz[1:] + zz[:-1])\n",
    "    k = 0\n",
    "    for i, r in enumerate(r_center):\n",
    "        for j, z in enumerate(z_center):\n",
    "            r_array[k] = r\n",
    "            z_array[k] = z\n",
    "            val[k] = H[i,j]\n",
    "            k += 1\n",
    "    \n",
    "    H = H.T\n",
    "\n",
    "    #H_new = pad_withNan(H)\n",
    "    #print H_new\n",
    "    fig = plt.figure(figsize=((12,6)))\n",
    "    ax = fig.add_subplot(1,1,1)\n",
    "    X, Y = np.meshgrid(e1, e2)\n",
    "    im = ax.pcolormesh(X, Y, H, cmap='jet')\n",
    "    print rr[0], rr[-1]\n",
    "    ax.set_xlim(6.5, 10.1)\n",
    "    ax.set_ylim(-2.5,2.5)\n",
    "    fig.colorbar(im, ax =ax)\n",
    "    fig.savefig('star_dist.png', dpi=300)\n",
    "    \n",
    "    return r_array, z_array, val\n",
    "\n",
    "\n",
    "def get_volume(rr, zz):\n",
    "    height = zz[1] - zz[0]\n",
    "    v = np.zeros(len(rr)-1)\n",
    "    i = 0\n",
    "    for r1, r2 in zip(rr[:-1], rr[1:]):\n",
    "        v[i] = (1/36.) * np.pi * (r2**2 - r1**2) * height\n",
    "    return v\n",
    "\n",
    "\n",
    "def fit_func(X, rho, f, l1, h1, l2, h2):\n",
    "    R, z = X\n",
    "    return rho* ((np.exp(-R/l1)* np.exp(-z/h1)) + f * (np.exp(-R/l2)* np.exp(-z/h2)))\n"
   ]
  },
  {
   "cell_type": "code",
   "execution_count": 9,
   "metadata": {},
   "outputs": [],
   "source": [
    "data_m = np.loadtxt('real_175cut_mstar.txt')"
   ]
  },
  {
   "cell_type": "code",
   "execution_count": 27,
   "metadata": {},
   "outputs": [
    {
     "name": "stdout",
     "output_type": "stream",
     "text": [
      "6.5 kpc 10.1 kpc\n"
     ]
    },
    {
     "data": {
      "image/png": "[encoded data removed]",
      "text/plain": [
       "<Figure size 864x432 with 2 Axes>"
      ]
     },
     "metadata": {
      "needs_background": "light"
     },
     "output_type": "display_data"
    }
   ],
   "source": [
    "c = coord.ICRS(ra=data_m[:,2] * u.degree,\n",
    "            dec=data_m[:,3] * u.degree,\n",
    "            distance=(1./data_m[:,4]) * u.kpc)\n",
    "\n",
    "gcentric = c.transform_to(coord.Galactocentric)\n",
    "gcentric.representation = 'cylindrical'\n",
    "r_array, z_array, val = get_hist(gcentric)"
   ]
  },
  {
   "cell_type": "code",
   "execution_count": 30,
   "metadata": {},
   "outputs": [
    {
     "data": {
      "text/plain": [
       "3262"
      ]
     },
     "execution_count": 30,
     "metadata": {},
     "output_type": "execute_result"
    }
   ],
   "source": [
    "len(np.where(val < 10)[0])"
   ]
  },
  {
   "cell_type": "code",
   "execution_count": 32,
   "metadata": {},
   "outputs": [
    {
     "data": {
      "text/plain": [
       "53883.0"
      ]
     },
     "execution_count": 32,
     "metadata": {},
     "output_type": "execute_result"
    }
   ],
   "source": [
    "max(val)"
   ]
  },
  {
   "cell_type": "code",
   "execution_count": null,
   "metadata": {},
   "outputs": [],
   "source": []
  }
 ],
 "metadata": {
  "kernelspec": {
   "display_name": "Python 2",
   "language": "python",
   "name": "python2"
  }
 },
 "nbformat": 4,
 "nbformat_minor": 2
}
